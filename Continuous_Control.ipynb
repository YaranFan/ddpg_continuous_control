{
 "cells": [
  {
   "cell_type": "markdown",
   "metadata": {},
   "source": [
    "# Continuous Control - Reacher Environment\n",
    "This notebook uses Deep Deterministic Policy Gradients (DDPG) to solve the continuous control problem for the Reacher environment."
   ]
  },
  {
   "cell_type": "markdown",
   "metadata": {},
   "source": [
    "## I. Preparation"
   ]
  },
  {
   "cell_type": "code",
   "execution_count": 1,
   "metadata": {},
   "outputs": [],
   "source": [
    "import torch\n",
    "import numpy as np\n",
    "import pandas as pd\n",
    "import matplotlib.pyplot as plt\n",
    "plt.style.use('ggplot')\n",
    "from collections import deque\n",
    "from unityagents import UnityEnvironment\n",
    "from ddpg_agent import Agents"
   ]
  },
  {
   "cell_type": "code",
   "execution_count": 2,
   "metadata": {},
   "outputs": [],
   "source": [
    "def ddpg(n_episodes=200, max_t=1000, print_every=10, rolling_window=100, \n",
    "         output_actor='checkpoint_actor.pth', output_critic='checkpoint_critic.pth'):\n",
    "    # Initialize\n",
    "    scores_pass = 30\n",
    "    solved = False\n",
    "    brain_name = env.brain_names[0]\n",
    "    scores_deque = deque(maxlen=rolling_window)\n",
    "    scores = []\n",
    "    # Iterate through episodes\n",
    "    for i_episode in range(1, n_episodes+1):\n",
    "        env_info = env.reset(train_mode=True)[brain_name]\n",
    "        states = env_info.vector_observations\n",
    "        agents.reset()\n",
    "        score = np.zeros(agents.n_agents)\n",
    "        for t in range(max_t):\n",
    "            actions = agents.act(states)\n",
    "            env_info = env.step(actions)[brain_name]\n",
    "            next_states = env_info.vector_observations\n",
    "            rewards = env_info.rewards\n",
    "            dones = env_info.local_done         \n",
    "            agents.step(states, actions, rewards, next_states, dones)\n",
    "            states = next_states\n",
    "            score += rewards\n",
    "            if np.any(dones):\n",
    "                break \n",
    "        scores_deque.append(np.mean(score))\n",
    "        scores.append(np.mean(score))\n",
    "        # Print results\n",
    "        print('\\rEpisode {} \\tAverage Score: {:.2f} \\tLatest Score: {:.2f}'.format(i_episode, np.mean(scores_deque), np.mean(score)), end=\"\")\n",
    "        if i_episode % print_every == 0:\n",
    "            print('')\n",
    "        # Save\n",
    "        if np.mean(scores_deque)>=scores_pass:\n",
    "            if solved == False:\n",
    "                print('\\n * Environment first solved in {:d} episodes! Average Score: {:.2f}. Continue training...'.format(i_episode, np.mean(scores_deque)))\n",
    "                solved = True\n",
    "            scores_pass = np.mean(scores_deque)\n",
    "            torch.save(agents.actor_local.state_dict(), output_actor)\n",
    "            torch.save(agents.critic_local.state_dict(), output_critic)\n",
    "    return scores\n",
    "\n",
    "def plot_score(scores, rolling_window=100):\n",
    "    df_scores = pd.DataFrame(scores, columns=['EpisodeScore'])\n",
    "    df_scores['MovingAvg100'] = df_scores['EpisodeScore'].rolling(rolling_window, min_periods=1).mean()\n",
    "    df_scores.plot(color=['grey', 'red'])\n",
    "    plt.ylabel('Score')\n",
    "    plt.xlabel('Episode #')\n",
    "    plt.show()"
   ]
  },
  {
   "cell_type": "markdown",
   "metadata": {},
   "source": [
    "## II. Environment"
   ]
  },
  {
   "cell_type": "code",
   "execution_count": 3,
   "metadata": {},
   "outputs": [
    {
     "name": "stderr",
     "output_type": "stream",
     "text": [
      "INFO:unityagents:\n",
      "'Academy' started successfully!\n",
      "Unity Academy name: Academy\n",
      "        Number of Brains: 1\n",
      "        Number of External Brains : 1\n",
      "        Lesson number : 0\n",
      "        Reset Parameters :\n",
      "\t\tgoal_speed -> 1.0\n",
      "\t\tgoal_size -> 5.0\n",
      "Unity brain name: ReacherBrain\n",
      "        Number of Visual Observations (per agent): 0\n",
      "        Vector Observation space type: continuous\n",
      "        Vector Observation space size (per agent): 33\n",
      "        Number of stacked Vector Observation: 1\n",
      "        Vector Action space type: continuous\n",
      "        Vector Action space size (per agent): 4\n",
      "        Vector Action descriptions: , , , \n"
     ]
    }
   ],
   "source": [
    "# Set up the environment\n",
    "env = UnityEnvironment(file_name='Reacher_multiple_agents\\Reacher.exe')\n",
    "brain_name = env.brain_names[0]\n",
    "brain = env.brains[brain_name]\n",
    "env_info = env.reset(train_mode=True)[brain_name]"
   ]
  },
  {
   "cell_type": "markdown",
   "metadata": {},
   "source": [
    "## III. Train the Agents"
   ]
  },
  {
   "cell_type": "code",
   "execution_count": 4,
   "metadata": {},
   "outputs": [],
   "source": [
    "# Train model or load model\n",
    "train_model = True"
   ]
  },
  {
   "cell_type": "code",
   "execution_count": 5,
   "metadata": {},
   "outputs": [
    {
     "name": "stdout",
     "output_type": "stream",
     "text": [
      "Episode 10 \tAverage Score: 0.94 \tLatest Score: 1.07\n",
      "Episode 20 \tAverage Score: 2.57 \tLatest Score: 7.89\n",
      "Episode 30 \tAverage Score: 5.24 \tLatest Score: 13.67\n",
      "Episode 40 \tAverage Score: 7.99 \tLatest Score: 20.14\n",
      "Episode 50 \tAverage Score: 11.97 \tLatest Score: 34.26\n",
      "Episode 60 \tAverage Score: 16.07 \tLatest Score: 35.68\n",
      "Episode 70 \tAverage Score: 19.02 \tLatest Score: 36.87\n",
      "Episode 80 \tAverage Score: 21.16 \tLatest Score: 36.43\n",
      "Episode 90 \tAverage Score: 22.88 \tLatest Score: 36.08\n",
      "Episode 100 \tAverage Score: 24.03 \tLatest Score: 35.18\n",
      "Episode 110 \tAverage Score: 27.38 \tLatest Score: 30.99\n",
      "Episode 119 \tAverage Score: 30.12 \tLatest Score: 35.37\n",
      " * Environment first solved in 119 episodes! Average Score: 30.12. Continue training...\n",
      "Episode 120 \tAverage Score: 30.41 \tLatest Score: 36.85\n",
      "Episode 130 \tAverage Score: 33.06 \tLatest Score: 37.17\n",
      "Episode 140 \tAverage Score: 35.11 \tLatest Score: 35.58\n",
      "Episode 150 \tAverage Score: 35.97 \tLatest Score: 36.64\n",
      "Episode 160 \tAverage Score: 35.95 \tLatest Score: 35.66\n",
      "Episode 170 \tAverage Score: 35.90 \tLatest Score: 36.85\n",
      "Episode 180 \tAverage Score: 35.92 \tLatest Score: 35.85\n",
      "Episode 190 \tAverage Score: 35.90 \tLatest Score: 35.82\n",
      "Episode 200 \tAverage Score: 36.09 \tLatest Score: 37.35\n"
     ]
    },
    {
     "data": {
      "image/png": "[encoded data removed]",
      "text/plain": [
       "<Figure size 432x288 with 1 Axes>"
      ]
     },
     "metadata": {
      "needs_background": "light"
     },
     "output_type": "display_data"
    }
   ],
   "source": [
    "# Environment Info\n",
    "device = torch.device('cuda:0' if torch.cuda.is_available() else 'cpu')\n",
    "output_actor = 'checkpoint_actor.pth'\n",
    "output_critic = 'checkpoint_critic.pth'\n",
    "n_agents = len(env_info.agents)\n",
    "action_size = brain.vector_action_space_size\n",
    "state_size = brain.vector_observation_space_size\n",
    "\n",
    "# Agents\n",
    "agents = Agents(state_size=state_size, action_size=action_size, n_agents=n_agents, random_seed=7, device=device)\n",
    "if train_model:\n",
    "    scores = ddpg(output_actor=output_actor, output_critic=output_critic)\n",
    "    plot_score(scores)\n",
    "else:\n",
    "    agents.actor_local.load_state_dict(torch.load(output_actor))\n",
    "    agents.critic_local.load_state_dict(torch.load(output_critic))"
   ]
  },
  {
   "cell_type": "markdown",
   "metadata": {},
   "source": [
    "## IV. Watch the Smart Agents"
   ]
  },
  {
   "cell_type": "code",
   "execution_count": 27,
   "metadata": {},
   "outputs": [
    {
     "name": "stdout",
     "output_type": "stream",
     "text": [
      "Total score (averaged over agents) this episode: 38.26649914467707\n"
     ]
    }
   ],
   "source": [
    "# Watch the trained agent\n",
    "env_info = env.reset(train_mode=False)[brain_name] \n",
    "states = env_info.vector_observations\n",
    "scores = np.zeros(n_agents)\n",
    "while True:\n",
    "    actions = agents.act(states, add_noise=False)\n",
    "    env_info = env.step(actions)[brain_name]\n",
    "    next_states = env_info.vector_observations\n",
    "    rewards = env_info.rewards \n",
    "    dones = env_info.local_done\n",
    "    scores += rewards\n",
    "    states = next_states \n",
    "    if np.any(dones):\n",
    "        break\n",
    "print('Total score (averaged over agents) this episode: {}'.format(np.mean(scores)))\n",
    "# env.close()"
   ]
  },
  {
   "cell_type": "code",
   "execution_count": null,
   "metadata": {},
   "outputs": [],
   "source": []
  }
 ],
 "metadata": {
  "kernelspec": {
   "display_name": "Python 3",
   "language": "python",
   "name": "python3"
  },
  "language_info": {
   "codemirror_mode": {
    "name": "ipython",
    "version": 3
   },
   "file_extension": ".py",
   "mimetype": "text/x-python",
   "name": "python",
   "nbconvert_exporter": "python",
   "pygments_lexer": "ipython3",
   "version": "3.6.8"
  }
 },
 "nbformat": 4,
 "nbformat_minor": 2
}
